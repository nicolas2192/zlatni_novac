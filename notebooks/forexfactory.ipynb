{
 "cells": [
  {
   "cell_type": "markdown",
   "metadata": {
    "tags": []
   },
   "source": [
    "# Forex Factory\n",
    "---\n",
    "Scrapper & Data Cleansing/Modelling"
   ]
  },
  {
   "cell_type": "code",
   "execution_count": 9,
   "metadata": {
    "colab": {
     "base_uri": "https://localhost:8080/"
    },
    "executionInfo": {
     "elapsed": 13253,
     "status": "ok",
     "timestamp": 1693489685591,
     "user": {
      "displayName": "Nicolas Cortinas",
      "userId": "12246189098308514323"
     },
     "user_tz": -240
    },
    "id": "zNE0iDuOxEAA",
    "outputId": "d34e0522-703e-425e-86ec-eeb4d3ee93d1",
    "tags": []
   },
   "outputs": [],
   "source": [
    "import logging\n",
    "import sys\n",
    "import datetime\n",
    "import requests\n",
    "import bs4\n",
    "import numpy as np\n",
    "import pandas as pd"
   ]
  },
  {
   "cell_type": "markdown",
   "metadata": {
    "id": "yKBRXdkR0lUX"
   },
   "source": [
    "### To do\n",
    "test etoro api"
   ]
  },
  {
   "cell_type": "code",
   "execution_count": null,
   "metadata": {
    "executionInfo": {
     "elapsed": 2,
     "status": "ok",
     "timestamp": 1693488457426,
     "user": {
      "displayName": "Nicolas Cortinas",
      "userId": "12246189098308514323"
     },
     "user_tz": -240
    },
    "id": "lih2eTFSNfJ1",
    "tags": []
   },
   "outputs": [],
   "source": [
    "def logger_settings():\n",
    "\n",
    "    # Setting Logger\n",
    "    #logger = logging.getLogger(__name__)\n",
    "    logger = logging.getLogger('ForexFactoryLog')\n",
    "\n",
    "    # Setting Handlers\n",
    "    c_handler = logging.StreamHandler()\n",
    "    c_handler.setLevel(logging.INFO)\n",
    "\n",
    "    f_handler = logging.FileHandler(f'{__name__}.log')\n",
    "    f_handler.setLevel(logging.INFO)\n",
    "\n",
    "    # Formatting log messages\n",
    "    log_message = '%(asctime)s :: %(name)s :: %(levelname)-8s :: %(message)s'\n",
    "    log_format = logging.Formatter(log_message, datefmt='%Y-%m-%d %H:%M:%S')\n",
    "    \n",
    "    c_handler.setFormatter(log_format)\n",
    "    f_handler.setFormatter(log_format)\n",
    "\n",
    "    # Assigning handlers to logger object\n",
    "    logger.addHandler(c_handler)\n",
    "    logger.addHandler(f_handler)\n",
    "\n",
    "    return logger"
   ]
  },
  {
   "cell_type": "code",
   "execution_count": 10,
   "metadata": {
    "tags": []
   },
   "outputs": [],
   "source": [
    "def fetch_html(url, headers, logger):\n",
    "    '''\n",
    "    Sends request message to url and returns raw html.\n",
    "    '''\n",
    "    try:\n",
    "        resp = requests.get(url, headers=headers)\n",
    "        assert resp.status_code == 200\n",
    "        \n",
    "        logging.info(f'{url}. Connection established.')\n",
    "        \n",
    "        return resp\n",
    "        \n",
    "    except Exception as get_error:\n",
    "        logger.error(f'URL: {url}, Connection error: {str(get_error)}')\n",
    "        sys.exit()\n"
   ]
  },
  {
   "cell_type": "code",
   "execution_count": 11,
   "metadata": {
    "tags": []
   },
   "outputs": [],
   "source": [
    "def parse_forexfactory_page(response, logger):\n",
    "    '''\n",
    "    Parses raw html from ForexFactory.com/calendar. Returns bs4 object containing calendar table information.\n",
    "    '''\n",
    "    try:\n",
    "        soup = bs4.BeautifulSoup(response.content)\n",
    "        table = soup.find('table', class_='calendar__table')\n",
    "        rows_raw = table.find_all('tr')\n",
    "        \n",
    "        # Removing unnecessary rows.\n",
    "        rows = [row for row in rows_raw if not isinstance(row, bs4.element.NavigableString) and row['class'][0] == 'calendar__row']\n",
    "        \n",
    "        logger.info(f'Forex Factory calendar page parsed successfully.')    \n",
    "        return rows\n",
    "        \n",
    "    except Exception as initial_parsing_error:\n",
    "        logger.error(f'Error parsing Forex Factory calendar table. Error: {str(initial_parsing_error)}')\n",
    "        sys.exit()\n"
   ]
  },
  {
   "cell_type": "code",
   "execution_count": 12,
   "metadata": {
    "tags": []
   },
   "outputs": [],
   "source": [
    "def parse_forexfactory_calendar(raw_calendar, logger):\n",
    "    '''\n",
    "    Parses previously fetched data and creates pandas dataframe\n",
    "    '''\n",
    "    \n",
    "    element_errors = []\n",
    "    table_data = []\n",
    "\n",
    "    # Iterate over each row element getting the text. Appends to a list at the end of every loop.\n",
    "    for indx, row in enumerate(raw_calendar):#self._rows):\n",
    "        \n",
    "        # Date\n",
    "        try:\n",
    "            date = row.find('td' , class_='calendar__cell calendar__date').text.strip()\n",
    "        except AttributeError:\n",
    "            date = None\n",
    "        except Exception as element_error:\n",
    "            element_errors.append([indx, 'date'])\n",
    "\n",
    "        # Time\n",
    "        try:\n",
    "            time = row.find('td' , class_='calendar__cell calendar__time').text.strip()\n",
    "        except AttributeError:\n",
    "            time = None\n",
    "        except Exception as element_error:\n",
    "            element_errors.append([indx, 'time'])\n",
    "\n",
    "        # Currency\n",
    "        try:\n",
    "            currency = row.find('td' , class_='calendar__cell calendar__currency').text.strip()\n",
    "        except AttributeError:\n",
    "            currency = None\n",
    "        except Exception as element_error:\n",
    "            element_errors.append([indx, 'currency'])\n",
    "\n",
    "        # Impact\n",
    "        try:\n",
    "            impact_color = row.find('td' , class_='calendar__cell calendar__impact').find('span')['class'][1].split('-')[-1]\n",
    "            \n",
    "            if impact_color == 'ora':\n",
    "                impact = 'Medium'\n",
    "            elif impact_color == 'yel':\n",
    "                impact = 'Low'\n",
    "            elif impact_color == 'red':\n",
    "                impact = 'High'\n",
    "            elif impact_color == 'gra':\n",
    "                impact = 'Non-Economic'\n",
    "                \n",
    "        except AttributeError:\n",
    "            impact = None\n",
    "        except Exception as element_error:\n",
    "            element_errors.append([indx, 'impact'])\n",
    "\n",
    "        # Event\n",
    "        try:\n",
    "            event = row.find('span' , class_='calendar__event-title').text.strip()\n",
    "        except AttributeError:\n",
    "            event = None\n",
    "        except Exception as element_error:\n",
    "            element_errors.append([indx, 'event'])\n",
    "\n",
    "        # Actual Value\n",
    "        try:\n",
    "            actual_val = row.find('td' , class_='calendar__cell calendar__actual').text.strip()\n",
    "        except AttributeError:\n",
    "            actual_val = None\n",
    "        except Exception as element_error:\n",
    "            element_errors.append([indx, 'actual_val'])\n",
    "\n",
    "        # Actual Status\n",
    "        try:\n",
    "            actual_status = row.find('td' , class_='calendar__cell calendar__actual').span['class']\n",
    "            \n",
    "            if len(actual_status) > 0:\n",
    "                actual_status = actual_status[0]\n",
    "            else:\n",
    "                actual_status = 'same'\n",
    "                \n",
    "        except AttributeError:\n",
    "            actual_status = None\n",
    "        except TypeError:\n",
    "            actual_status = None\n",
    "        except Exception as element_error:\n",
    "            element_errors.append([indx, 'actual_st'])\n",
    "\n",
    "        # Forecast\n",
    "        try:\n",
    "            forecast = row.find('td' , class_='calendar__cell calendar__forecast').text.strip()\n",
    "        except AttributeError:\n",
    "            forecast = None\n",
    "        except Exception as element_error:\n",
    "            element_errors.append([indx, 'forecast'])\n",
    "\n",
    "        # Previous\n",
    "        try:\n",
    "            previous = row.find('td' , class_='calendar__cell calendar__previous').text.strip()\n",
    "        except AttributeError:\n",
    "            previous = None\n",
    "        except Exception as element_error:\n",
    "            element_errors.append([indx, 'previous'])\n",
    "\n",
    "        # Appending new row to list of rows\n",
    "        table_data.append([date, time, currency, impact, event, actual_val, actual_status, forecast, previous])\n",
    "    \n",
    "    cols = ['event_date', 'event_time', 'currency', 'impact', 'event', \n",
    "            'actual_val', 'actual_status', 'forecast', 'previous']\n",
    "    df = pd.DataFrame(data=table_data, columns=cols)\n",
    "        \n",
    "    # Checking whether the number of rows in the html is the same in the table.\n",
    "    try:\n",
    "        assert len(raw_calendar) == len(table_data)\n",
    "        logger.info(f'Records found: {len(table_data)-1}.')\n",
    "    except AssertionError as parsing_error:\n",
    "        logger.error(f'Parsing Error: Parsed data has {len(raw_calendar)-1} rows, table has {len(table_data)-1}.')\n",
    "\n",
    "    # Checking all elements were parsed correctly.\n",
    "    try:\n",
    "        assert len(element_errors) == 0\n",
    "        logger.info(f'Forex Factory calendar table parsed successfully.')\n",
    "    except AssertionError as data_mismatch:\n",
    "        for err in element_errors:\n",
    "            logger.error(f'Data mismatch: {element_errors[0]}, {element_errors[1]}')\n",
    "            \n",
    "    return df\n",
    "            "
   ]
  },
  {
   "cell_type": "code",
   "execution_count": 13,
   "metadata": {
    "tags": []
   },
   "outputs": [],
   "source": [
    "def save_csv(df, pathfile, logger):\n",
    "    '''\n",
    "    Save CSV file\n",
    "    '''\n",
    "    \n",
    "    try: \n",
    "        df.to_csv(pathfile, sep=';', index=False)\n",
    "        logger.info(f'CSV file saved: {pathfile}.')\n",
    "        \n",
    "    except Exception as csv_save_error:\n",
    "        logger.error(f'CSV saving error: {str(csv_save_error)}')\n",
    "        sys.exit()\n",
    "        "
   ]
  },
  {
   "cell_type": "code",
   "execution_count": 14,
   "metadata": {
    "tags": []
   },
   "outputs": [],
   "source": [
    "def forexfactory_calendar(logger):\n",
    "    \n",
    "    now = datetime.datetime.now(datetime.timezone.utc).strftime(\"%Y%m%dT%H%M%SZ\")\n",
    "    logging.info('Forex Factory Calendar.')\n",
    "    \n",
    "    # Setting main variables\n",
    "    url = 'https://www.forexfactory.com/calendar?month=last'\n",
    "    headers = {'User-Agent': 'Mozilla/5.0 (Windows NT 10.0; Win64; x64) AppleWebKit/537.36 (KHTML, like Gecko) Chrome/115.0.0.0 Safari/537.36'}\n",
    "    \n",
    "    # Fetching calendar data\n",
    "    response = fetch_html(url, headers, logger=logging)\n",
    "    raw_calendar = parse_forexfactory_page(response, logger=logging)\n",
    "    \n",
    "    # Creating calendar table\n",
    "    df_calendar = parse_forexfactory_calendar(raw_calendar, logger=logging)\n",
    "    \n",
    "    # Saving calendar as CSV\n",
    "    pathfile = f'ff_calendar_{now}.csv'\n",
    "    save_csv(df_calendar, pathfile, logger=logging)\n",
    "    \n",
    "    return df_calendar\n"
   ]
  },
  {
   "cell_type": "code",
   "execution_count": 15,
   "metadata": {
    "tags": []
   },
   "outputs": [],
   "source": [
    "if __name__ == \"__main__\":\n",
    "    \n",
    "    logging.basicConfig(level=logging.INFO, filename='ForexFactory.log', filemode='w', \n",
    "                        format='%(asctime)s :: %(name)s :: %(levelname)-8s :: %(message)s',\n",
    "                        datefmt='%Y-%m-%d %H:%M:%S')\n",
    "    \n",
    "    ff_cal = forexfactory_calendar(logging)"
   ]
  },
  {
   "cell_type": "code",
   "execution_count": 16,
   "metadata": {
    "tags": []
   },
   "outputs": [
    {
     "data": {
      "text/html": [
       "<div>\n",
       "<style scoped>\n",
       "    .dataframe tbody tr th:only-of-type {\n",
       "        vertical-align: middle;\n",
       "    }\n",
       "\n",
       "    .dataframe tbody tr th {\n",
       "        vertical-align: top;\n",
       "    }\n",
       "\n",
       "    .dataframe thead th {\n",
       "        text-align: right;\n",
       "    }\n",
       "</style>\n",
       "<table border=\"1\" class=\"dataframe\">\n",
       "  <thead>\n",
       "    <tr style=\"text-align: right;\">\n",
       "      <th></th>\n",
       "      <th>event_date</th>\n",
       "      <th>event_time</th>\n",
       "      <th>currency</th>\n",
       "      <th>impact</th>\n",
       "      <th>event</th>\n",
       "      <th>actual_val</th>\n",
       "      <th>actual_status</th>\n",
       "      <th>forecast</th>\n",
       "      <th>previous</th>\n",
       "    </tr>\n",
       "  </thead>\n",
       "  <tbody>\n",
       "    <tr>\n",
       "      <th>0</th>\n",
       "      <td>None</td>\n",
       "      <td>None</td>\n",
       "      <td>None</td>\n",
       "      <td>None</td>\n",
       "      <td>None</td>\n",
       "      <td>None</td>\n",
       "      <td>None</td>\n",
       "      <td>None</td>\n",
       "      <td>None</td>\n",
       "    </tr>\n",
       "    <tr>\n",
       "      <th>1</th>\n",
       "      <td>Tue Aug 1</td>\n",
       "      <td>2:45am</td>\n",
       "      <td>NZD</td>\n",
       "      <td>Low</td>\n",
       "      <td>Building Consents m/m</td>\n",
       "      <td>3.5%</td>\n",
       "      <td>same</td>\n",
       "      <td></td>\n",
       "      <td>-2.3%</td>\n",
       "    </tr>\n",
       "    <tr>\n",
       "      <th>2</th>\n",
       "      <td></td>\n",
       "      <td>3:01am</td>\n",
       "      <td>GBP</td>\n",
       "      <td>Low</td>\n",
       "      <td>BRC Shop Price Index y/y</td>\n",
       "      <td>7.6%</td>\n",
       "      <td>same</td>\n",
       "      <td></td>\n",
       "      <td>8.4%</td>\n",
       "    </tr>\n",
       "    <tr>\n",
       "      <th>3</th>\n",
       "      <td></td>\n",
       "      <td>3:30am</td>\n",
       "      <td>JPY</td>\n",
       "      <td>Low</td>\n",
       "      <td>Unemployment Rate</td>\n",
       "      <td>2.5%</td>\n",
       "      <td>better</td>\n",
       "      <td>2.6%</td>\n",
       "      <td>2.6%</td>\n",
       "    </tr>\n",
       "    <tr>\n",
       "      <th>4</th>\n",
       "      <td></td>\n",
       "      <td>4:30am</td>\n",
       "      <td>JPY</td>\n",
       "      <td>Low</td>\n",
       "      <td>Final Manufacturing PMI</td>\n",
       "      <td>49.6</td>\n",
       "      <td>same</td>\n",
       "      <td>49.4</td>\n",
       "      <td>49.4</td>\n",
       "    </tr>\n",
       "    <tr>\n",
       "      <th>...</th>\n",
       "      <td>...</td>\n",
       "      <td>...</td>\n",
       "      <td>...</td>\n",
       "      <td>...</td>\n",
       "      <td>...</td>\n",
       "      <td>...</td>\n",
       "      <td>...</td>\n",
       "      <td>...</td>\n",
       "      <td>...</td>\n",
       "    </tr>\n",
       "    <tr>\n",
       "      <th>407</th>\n",
       "      <td></td>\n",
       "      <td></td>\n",
       "      <td>USD</td>\n",
       "      <td>High</td>\n",
       "      <td>Unemployment Claims</td>\n",
       "      <td>228K</td>\n",
       "      <td>better</td>\n",
       "      <td>236K</td>\n",
       "      <td>232K</td>\n",
       "    </tr>\n",
       "    <tr>\n",
       "      <th>408</th>\n",
       "      <td></td>\n",
       "      <td></td>\n",
       "      <td>USD</td>\n",
       "      <td>Low</td>\n",
       "      <td>Personal Income m/m</td>\n",
       "      <td>0.2%</td>\n",
       "      <td>worse</td>\n",
       "      <td>0.3%</td>\n",
       "      <td>0.3%</td>\n",
       "    </tr>\n",
       "    <tr>\n",
       "      <th>409</th>\n",
       "      <td></td>\n",
       "      <td></td>\n",
       "      <td>USD</td>\n",
       "      <td>Low</td>\n",
       "      <td>Personal Spending m/m</td>\n",
       "      <td>0.8%</td>\n",
       "      <td>better</td>\n",
       "      <td>0.7%</td>\n",
       "      <td>0.6%</td>\n",
       "    </tr>\n",
       "    <tr>\n",
       "      <th>410</th>\n",
       "      <td></td>\n",
       "      <td>5:45pm</td>\n",
       "      <td>USD</td>\n",
       "      <td>Low</td>\n",
       "      <td>Chicago PMI</td>\n",
       "      <td>48.7</td>\n",
       "      <td>better</td>\n",
       "      <td>44.3</td>\n",
       "      <td>42.8</td>\n",
       "    </tr>\n",
       "    <tr>\n",
       "      <th>411</th>\n",
       "      <td></td>\n",
       "      <td>6:30pm</td>\n",
       "      <td>USD</td>\n",
       "      <td>Low</td>\n",
       "      <td>Natural Gas Storage</td>\n",
       "      <td>32B</td>\n",
       "      <td>worse</td>\n",
       "      <td>28B</td>\n",
       "      <td>18B</td>\n",
       "    </tr>\n",
       "  </tbody>\n",
       "</table>\n",
       "<p>412 rows × 9 columns</p>\n",
       "</div>"
      ],
      "text/plain": [
       "    event_date event_time currency impact                     event  \\\n",
       "0         None       None     None   None                      None   \n",
       "1    Tue Aug 1     2:45am      NZD    Low     Building Consents m/m   \n",
       "2                  3:01am      GBP    Low  BRC Shop Price Index y/y   \n",
       "3                  3:30am      JPY    Low         Unemployment Rate   \n",
       "4                  4:30am      JPY    Low   Final Manufacturing PMI   \n",
       "..         ...        ...      ...    ...                       ...   \n",
       "407                            USD   High       Unemployment Claims   \n",
       "408                            USD    Low       Personal Income m/m   \n",
       "409                            USD    Low     Personal Spending m/m   \n",
       "410                5:45pm      USD    Low               Chicago PMI   \n",
       "411                6:30pm      USD    Low       Natural Gas Storage   \n",
       "\n",
       "    actual_val actual_status forecast previous  \n",
       "0         None          None     None     None  \n",
       "1         3.5%          same             -2.3%  \n",
       "2         7.6%          same              8.4%  \n",
       "3         2.5%        better     2.6%     2.6%  \n",
       "4         49.6          same     49.4     49.4  \n",
       "..         ...           ...      ...      ...  \n",
       "407       228K        better     236K     232K  \n",
       "408       0.2%         worse     0.3%     0.3%  \n",
       "409       0.8%        better     0.7%     0.6%  \n",
       "410       48.7        better     44.3     42.8  \n",
       "411        32B         worse      28B      18B  \n",
       "\n",
       "[412 rows x 9 columns]"
      ]
     },
     "execution_count": 16,
     "metadata": {},
     "output_type": "execute_result"
    }
   ],
   "source": [
    "ff_cal"
   ]
  },
  {
   "cell_type": "code",
   "execution_count": null,
   "metadata": {},
   "outputs": [],
   "source": []
  },
  {
   "cell_type": "code",
   "execution_count": null,
   "metadata": {
    "executionInfo": {
     "elapsed": 2,
     "status": "ok",
     "timestamp": 1693488457426,
     "user": {
      "displayName": "Nicolas Cortinas",
      "userId": "12246189098308514323"
     },
     "user_tz": -240
    },
    "id": "4CHJtZfyYT7S"
   },
   "outputs": [],
   "source": [
    "# Crawler Class\n",
    "\n",
    "class Crawler(object):\n",
    "\n",
    "  def __init__(self, url, logger):\n",
    "    \"\"\"\n",
    "    Downloads data from ForexFactory.com\n",
    "    Parameters:\n",
    "    - url: String. ForexFactory.com url to be parsed.\n",
    "    - logger: Log instance from logging module.\n",
    "    \"\"\"\n",
    "    self.url = url\n",
    "    self.logger = logger\n",
    "\n",
    "    # Hidden attributes\n",
    "    self._rows = None\n",
    "    self._table_data = []\n",
    "    self._element_errors = []\n",
    "\n",
    "\n",
    "  def retrieve_raw(self):\n",
    "    \"\"\"\n",
    "    Retrieves raw html from ForexFactory.com. Returns bs4 object containing all table rows.\n",
    "    \"\"\"\n",
    "    headers = {'User-Agent': 'Mozilla/5.0 (Windows NT 10.0; Win64; x64) AppleWebKit/537.36 (KHTML, like Gecko) Chrome/115.0.0.0 Safari/537.36'}\n",
    "\n",
    "    resp = requests.get(self.url, headers=headers)\n",
    "\n",
    "    # Checking the connection was successful\n",
    "    if resp.status_code == 200:\n",
    "      self.logger.info(f'URL: {self.url}, status code: 200')\n",
    "    else:\n",
    "      self.logger.error(f'URL: {self.url}, status code: {resp.status_code}')\n",
    "\n",
    "    # Checking whether the page has the right information\n",
    "    try:\n",
    "      soup = bs4.BeautifulSoup(resp.text)\n",
    "      table = soup.find('table', class_='calendar__table')\n",
    "      rows_raw = table.find_all('tr')\n",
    "      # Removing unnecessary rows.\n",
    "      self._rows = [row for row in rows_raw if not isinstance(row, bs4.element.NavigableString) and row['class'][0] == 'calendar__row']\n",
    "    except Exception as initial_parsing_error:\n",
    "      self.logger.error('Exception occurred', exc_info=True)\n",
    "\n",
    "  def parse_raw(self):\n",
    "    '''\n",
    "    Parses previously fetched data and creates pandas dataframe\n",
    "    '''\n",
    "\n",
    "    # Iterate over each row element getting the text. Appends to a list at the end of every loop.\n",
    "    for indx, row in enumerate(self._rows):\n",
    "      #if not isinstance(row, bs4.element.NavigableString) and row['class'][0] == 'calendar__row':\n",
    "\n",
    "      # Date\n",
    "      try:\n",
    "        date = row.find('td' , class_='calendar__cell calendar__date').text.strip()\n",
    "      except AttributeError:\n",
    "        date = None\n",
    "      except Exception as element_error:\n",
    "        self._element_errors.append([indx, 'date'])\n",
    "\n",
    "      # Time\n",
    "      try:\n",
    "        time = row.find('td' , class_='calendar__cell calendar__time').text.strip()\n",
    "      except AttributeError:\n",
    "        time = None\n",
    "      except Exception as element_error:\n",
    "        self._element_errors.append([indx, 'time'])\n",
    "\n",
    "      # Currency\n",
    "      try:\n",
    "        currency = row.find('td' , class_='calendar__cell calendar__currency').text.strip()\n",
    "      except AttributeError:\n",
    "        currency = None\n",
    "      except Exception as element_error:\n",
    "        self._element_errors.append([indx, 'currency'])\n",
    "\n",
    "      # Impact\n",
    "      try:\n",
    "        impact_color = row.find('td' , class_='calendar__cell calendar__impact').find('span')['class'][1].split('-')[-1]\n",
    "        if impact_color == 'ora':\n",
    "          impact = 'Medium'\n",
    "        elif impact_color == 'yel':\n",
    "          impact = 'Low'\n",
    "        elif impact_color == 'red':\n",
    "          impact = 'High'\n",
    "        elif impact_color == 'gra':\n",
    "          impact = 'Non-Economic'\n",
    "      except AttributeError:\n",
    "        impact = None\n",
    "      except Exception as element_error:\n",
    "        self._element_errors.append([indx, 'impact'])\n",
    "\n",
    "      # Event\n",
    "      try:\n",
    "        event = row.find('span' , class_='calendar__event-title').text.strip()\n",
    "      except AttributeError:\n",
    "        event = None\n",
    "      except Exception as element_error:\n",
    "        self._element_errors.append([indx, 'event'])\n",
    "\n",
    "      # Actual Value\n",
    "      try:\n",
    "        actual_val = row.find('td' , class_='calendar__cell calendar__actual').text.strip()\n",
    "      except AttributeError:\n",
    "        actual_val = None\n",
    "      except Exception as element_error:\n",
    "        self._element_errors.append([indx, 'actual_val'])\n",
    "\n",
    "      # Actual Status\n",
    "      try:\n",
    "        actual_status = row.find('td' , class_='calendar__cell calendar__actual').span['class']\n",
    "        if len(actual_status) > 0:\n",
    "          actual_status = actual_status[0]\n",
    "        else:\n",
    "          actual_status = 'same'\n",
    "      except AttributeError:\n",
    "        actual_status = None\n",
    "      except TypeError:\n",
    "        actual_status = None\n",
    "      except Exception as element_error:\n",
    "        self._element_errors.append([indx, 'actual_st'])\n",
    "\n",
    "      # Forecast\n",
    "      try:\n",
    "        forecast = row.find('td' , class_='calendar__cell calendar__forecast').text.strip()\n",
    "      except AttributeError:\n",
    "        forecast = None\n",
    "      except Exception as element_error:\n",
    "        self._element_errors.append([indx, 'forecast'])\n",
    "\n",
    "      # Previous\n",
    "      try:\n",
    "        previous = row.find('td' , class_='calendar__cell calendar__previous').text.strip()\n",
    "      except AttributeError:\n",
    "        previous = None\n",
    "      except Exception as element_error:\n",
    "        self._element_errors.append([indx, 'previous'])\n",
    "\n",
    "      # Appending new row to list of rows\n",
    "      self._table_data.append([date, time, currency, impact, event, actual_val, actual_status, forecast, previous])\n",
    "\n",
    "    # Checking whether the number of rows in the html is the same in the table.\n",
    "    try:\n",
    "      assert len(self._rows) == len(self._table_data)\n",
    "      self.logger.info(f'New entries: {len(self._table_data)-1}')\n",
    "    except AssertionError as parsing_error:\n",
    "      self.logger.error(f'Parsing Error: Parsed data has {len(self._rows)-1} rows, table has {len(self._table_data)-1}')\n",
    "\n",
    "    # Checking all elements were parsed correctly.\n",
    "    try:\n",
    "      assert len(self._element_errors) == 0\n",
    "      self.logger.info(f'No errors while parsing rows/elements')\n",
    "    except AssertionError as data_mismatch:\n",
    "      for err in self._element_errors:\n",
    "        self.logger.error(f'Data Mismatch: {self._element_errors[0]}, {self._element_errors[1]}')\n"
   ]
  },
  {
   "cell_type": "code",
   "execution_count": null,
   "metadata": {
    "executionInfo": {
     "elapsed": 1444,
     "status": "ok",
     "timestamp": 1693489769030,
     "user": {
      "displayName": "Nicolas Cortinas",
      "userId": "12246189098308514323"
     },
     "user_tz": -240
    },
    "id": "C_8FGgjarzuy"
   },
   "outputs": [],
   "source": [
    "url = 'https://www.forexfactory.com/calendar?day=today'\n",
    "url = 'https://www.forexfactory.com/calendar?month=last'\n",
    "\n",
    "scraper = Crawler(url, logger)\n",
    "scraper.retrieve_raw()\n",
    "scraper.parse_raw()\n"
   ]
  },
  {
   "cell_type": "code",
   "execution_count": null,
   "metadata": {
    "colab": {
     "base_uri": "https://localhost:8080/",
     "height": 424
    },
    "executionInfo": {
     "elapsed": 5,
     "status": "ok",
     "timestamp": 1693489769031,
     "user": {
      "displayName": "Nicolas Cortinas",
      "userId": "12246189098308514323"
     },
     "user_tz": -240
    },
    "id": "V1B8XDXjXtE0",
    "outputId": "570f72ba-5b55-44d6-da19-0571b4d9429c"
   },
   "outputs": [],
   "source": [
    "table_headers = ['Date', 'Time', 'Currency', 'Impact', 'Event', 'Actual', 'ActualStatus', 'Forecast', 'Previous']\n",
    "table_data = scraper._table_data\n",
    "df = pd.DataFrame(data=table_data, columns=table_headers)\n",
    "df"
   ]
  },
  {
   "cell_type": "code",
   "execution_count": null,
   "metadata": {
    "executionInfo": {
     "elapsed": 535,
     "status": "ok",
     "timestamp": 1693489776865,
     "user": {
      "displayName": "Nicolas Cortinas",
      "userId": "12246189098308514323"
     },
     "user_tz": -240
    },
    "id": "fXUa0QNL1vsf"
   },
   "outputs": [],
   "source": [
    "df.to_csv('forex_factory_202307.csv', index=False)"
   ]
  },
  {
   "cell_type": "code",
   "execution_count": null,
   "metadata": {
    "colab": {
     "base_uri": "https://localhost:8080/"
    },
    "executionInfo": {
     "elapsed": 1074,
     "status": "ok",
     "timestamp": 1693489613070,
     "user": {
      "displayName": "Nicolas Cortinas",
      "userId": "12246189098308514323"
     },
     "user_tz": -240
    },
    "id": "eqU30X_02D0S",
    "outputId": "f005887d-9a98-48fd-a941-cb969587cefe"
   },
   "outputs": [],
   "source": []
  },
  {
   "cell_type": "code",
   "execution_count": null,
   "metadata": {
    "colab": {
     "base_uri": "https://localhost:8080/",
     "height": 143
    },
    "executionInfo": {
     "elapsed": 4,
     "status": "error",
     "timestamp": 1693488458464,
     "user": {
      "displayName": "Nicolas Cortinas",
      "userId": "12246189098308514323"
     },
     "user_tz": -240
    },
    "id": "9qsnFr73XbAR",
    "outputId": "e34074b2-8d97-4bf0-8c54-c0da21d7dff0"
   },
   "outputs": [],
   "source": [
    "# DataFrame Class\n",
    "\n",
    "class Calendar_Table(obj):\n",
    "\n",
    "\n"
   ]
  },
  {
   "cell_type": "code",
   "execution_count": null,
   "metadata": {
    "colab": {
     "base_uri": "https://localhost:8080/",
     "height": 35
    },
    "executionInfo": {
     "elapsed": 895,
     "status": "ok",
     "timestamp": 1692966439728,
     "user": {
      "displayName": "Nicolas Cortinas",
      "userId": "12246189098308514323"
     },
     "user_tz": -240
    },
    "id": "BUhhtjsuKC8O",
    "outputId": "42e48f31-b731-4b25-ad71-a3755799df96"
   },
   "outputs": [],
   "source": [
    "datetime.datetime.now(datetime.timezone.utc).strftime(\"%Y%m%dT%H:%M:%SZ\")"
   ]
  },
  {
   "cell_type": "code",
   "execution_count": null,
   "metadata": {
    "id": "rVVoelqk5l3i"
   },
   "outputs": [],
   "source": []
  },
  {
   "cell_type": "code",
   "execution_count": null,
   "metadata": {
    "colab": {
     "base_uri": "https://localhost:8080/"
    },
    "executionInfo": {
     "elapsed": 2,
     "status": "ok",
     "timestamp": 1692872599871,
     "user": {
      "displayName": "Nicolas Cortinas",
      "userId": "12246189098308514323"
     },
     "user_tz": -240
    },
    "id": "gOPvFJtUxPtv",
    "outputId": "11dc3cff-fc1c-4725-9474-6f9cb455250e"
   },
   "outputs": [],
   "source": [
    "url = 'https://www.forexfactory.com/calendar?day=aug20.2023'\n",
    "#url = 'https://www.forexfactory.com/calendar?day=today'\n",
    "#url = 'https://www.forexfactory.com/calendar?week=last'\n",
    "#url = 'https://www.forexfactory.com/calendar?week=next'\n",
    "headers = {'User-Agent': 'Mozilla/5.0 (Windows NT 10.0; Win64; x64) AppleWebKit/537.36 (KHTML, like Gecko) Chrome/115.0.0.0 Safari/537.36'}\n",
    "\n",
    "r = requests.get(url, headers=headers)\n",
    "print(r)\n",
    "\n",
    "# Time is US/Canada Eastern Time"
   ]
  },
  {
   "cell_type": "code",
   "execution_count": null,
   "metadata": {
    "id": "qoaex9mHyfSn"
   },
   "outputs": [],
   "source": [
    "soup = bs4.BeautifulSoup(r.text)\n",
    "table = soup.find('table', class_='calendar__table')\n",
    "rows_raw = table.find_all('tr')\n",
    "rows = [row for row in rows_raw if not isinstance(row, bs4.element.NavigableString) and row['class'][0] == 'calendar__row']"
   ]
  },
  {
   "cell_type": "code",
   "execution_count": null,
   "metadata": {
    "colab": {
     "base_uri": "https://localhost:8080/",
     "height": 237
    },
    "executionInfo": {
     "elapsed": 7,
     "status": "ok",
     "timestamp": 1692873294711,
     "user": {
      "displayName": "Nicolas Cortinas",
      "userId": "12246189098308514323"
     },
     "user_tz": -240
    },
    "id": "reHy1R4RiQdV",
    "outputId": "47f29418-04f7-4551-e813-e4a782d834ce"
   },
   "outputs": [],
   "source": [
    "data = []\n",
    "\n",
    "for row in rows:\n",
    "  #if not isinstance(row, bs4.element.NavigableString) and row['class'][0] == 'calendar__row':\n",
    "\n",
    "    # Date\n",
    "    try:\n",
    "      date = row.find('td' , class_='calendar__cell calendar__date').text.strip()\n",
    "    except AttributeError:\n",
    "      date = ''\n",
    "\n",
    "    # Time\n",
    "    try:\n",
    "      time = row.find('td' , class_='calendar__cell calendar__time').text.strip()\n",
    "    except AttributeError:\n",
    "      time = ''\n",
    "\n",
    "    # Currency\n",
    "    try:\n",
    "      currency = row.find('td' , class_='calendar__cell calendar__currency').text.strip()\n",
    "    except AttributeError:\n",
    "      currency = ''\n",
    "\n",
    "    # Impact\n",
    "    try:\n",
    "      impact_color = row.find('td' , class_='calendar__cell calendar__impact').find('span')['class'][1].split('-')[-1]\n",
    "      if impact_color == 'ora':\n",
    "        impact = 'Medium'\n",
    "      elif impact_color == 'yel':\n",
    "        impact = 'Low'\n",
    "      elif impact_color == 'red':\n",
    "        impact = 'High'\n",
    "      elif impact_color == 'gra':\n",
    "        impact = 'Non-Economic'\n",
    "    except AttributeError:\n",
    "      impact = ''\n",
    "\n",
    "    # Event\n",
    "    try:\n",
    "      event = row.find('span' , class_='calendar__event-title').text.strip()\n",
    "    except AttributeError:\n",
    "      event = ''\n",
    "\n",
    "    # Actual Value\n",
    "    try:\n",
    "      actual_val = row.find('td' , class_='calendar__cell calendar__actual').text.strip()\n",
    "    except AttributeError:\n",
    "      actual_val = ''\n",
    "\n",
    "    # Actual Status\n",
    "    try:\n",
    "      actual_status = row.find('td' , class_='calendar__cell calendar__actual').span['class']\n",
    "      if len(actual_status) > 0:\n",
    "        actual_status = actual_status[0]\n",
    "      else:\n",
    "        actual_status = 'same'\n",
    "    except AttributeError:\n",
    "      actual_status = ''\n",
    "    except TypeError:\n",
    "      actual_status = ''\n",
    "\n",
    "    # Forecast\n",
    "    try:\n",
    "      forecast = row.find('td' , class_='calendar__cell calendar__forecast').text.strip()\n",
    "    except AttributeError:\n",
    "      forecast = ''\n",
    "\n",
    "    # Previous\n",
    "    try:\n",
    "      previous = row.find('td' , class_='calendar__cell calendar__previous').text.strip()\n",
    "    except AttributeError:\n",
    "      previous = ''\n",
    "\n",
    "    data.append([date, time, currency, impact, event, actual_val, actual_status, forecast, previous])\n",
    "\n",
    "df = pd.DataFrame(data=data)\n",
    "df"
   ]
  },
  {
   "cell_type": "code",
   "execution_count": null,
   "metadata": {
    "colab": {
     "base_uri": "https://localhost:8080/"
    },
    "executionInfo": {
     "elapsed": 2,
     "status": "ok",
     "timestamp": 1692873572639,
     "user": {
      "displayName": "Nicolas Cortinas",
      "userId": "12246189098308514323"
     },
     "user_tz": -240
    },
    "id": "rs7ZKgOajCK6",
    "outputId": "4747ddef-9435-44b2-cc17-c90c459a8f9a"
   },
   "outputs": [],
   "source": [
    "len(rows)"
   ]
  },
  {
   "cell_type": "code",
   "execution_count": null,
   "metadata": {
    "id": "KtS8wlrZjCEK"
   },
   "outputs": [],
   "source": []
  },
  {
   "cell_type": "markdown",
   "metadata": {
    "id": "hV7kGy0BKSkC"
   },
   "source": [
    "# Yahoo Finance\n",
    "## 10 years Treasury Bond Yield"
   ]
  },
  {
   "cell_type": "code",
   "execution_count": null,
   "metadata": {
    "colab": {
     "base_uri": "https://localhost:8080/"
    },
    "executionInfo": {
     "elapsed": 365,
     "status": "ok",
     "timestamp": 1692759029563,
     "user": {
      "displayName": "Nicolas Cortinas",
      "userId": "12246189098308514323"
     },
     "user_tz": -240
    },
    "id": "8zW-b9yIKDvU",
    "outputId": "e5af7e69-b947-45a3-fb33-2a5be5549b34"
   },
   "outputs": [],
   "source": [
    "url = 'https://query1.finance.yahoo.com/v8/finance/chart/%5ETNX?region=US&lang=en-US&includePrePost=false&interval=1mo&useYfid=true&range=1d&corsDomain=finance.yahoo.com&.tsrc=finance'\n",
    "url = 'https://www.marketwatch.com/investing/bond/tmubmusd10y/downloaddatapartial?startdate=07/23/2023%2000:00:00&enddate=08/22/2023%2023:59:59&daterange=d30&frequency=p1d&csvdownload=true&downloadpartial=false&newdates=false&countrycode=bx'\n",
    "url = 'https://query1.finance.yahoo.com/v7/finance/download/%5ETNX?period1=1661208486&period2=1692744486&interval=1d&events=history&includeAdjustedClose=true'\n",
    "headers = {'User-Agent': 'Mozilla/5.0 (Windows NT 10.0; Win64; x64) AppleWebKit/537.36 (KHTML, like Gecko) Chrome/115.0.0.0 Safari/537.36'}\n",
    "\n",
    "r = requests.get(url, headers=headers)\n",
    "print(r)"
   ]
  },
  {
   "cell_type": "code",
   "execution_count": null,
   "metadata": {
    "colab": {
     "base_uri": "https://localhost:8080/",
     "height": 423
    },
    "executionInfo": {
     "elapsed": 9,
     "status": "ok",
     "timestamp": 1692764700981,
     "user": {
      "displayName": "Nicolas Cortinas",
      "userId": "12246189098308514323"
     },
     "user_tz": -240
    },
    "id": "BXc-09iiKDsd",
    "outputId": "f4f1bca0-41f7-4113-9c25-fd57b7aa47b7"
   },
   "outputs": [],
   "source": [
    "rows = r.text.split('\\n')\n",
    "data = [row.split(',') for row in rows]\n",
    "df = pd.DataFrame(data=data[1:], columns=data[0])\n",
    "df = df.applymap(lambda x: None if x.lower() == 'null' else x)\n",
    "df[df.columns[0]] = pd.to_datetime(df[df.columns[0]], format='%Y-%m-%d') # Changing Date column without calling it using its name\n",
    "df[df.columns[1:]] = df[df.columns[1:]].applymap(pd.to_numeric) # Converting numbers into floats\n",
    "df"
   ]
  },
  {
   "cell_type": "code",
   "execution_count": null,
   "metadata": {
    "colab": {
     "base_uri": "https://localhost:8080/",
     "height": 454
    },
    "executionInfo": {
     "elapsed": 651,
     "status": "ok",
     "timestamp": 1692764786769,
     "user": {
      "displayName": "Nicolas Cortinas",
      "userId": "12246189098308514323"
     },
     "user_tz": -240
    },
    "id": "f-WIUqQdn_4V",
    "outputId": "155ec70f-629a-444a-967a-8d5c75097937"
   },
   "outputs": [],
   "source": [
    "df.plot(x='Date', y='Adj Close')"
   ]
  },
  {
   "cell_type": "markdown",
   "metadata": {
    "id": "khtC2M0LtY2W"
   },
   "source": [
    "# Stocks Earnings\n",
    "## Nvidia"
   ]
  },
  {
   "cell_type": "code",
   "execution_count": null,
   "metadata": {
    "colab": {
     "base_uri": "https://localhost:8080/"
    },
    "executionInfo": {
     "elapsed": 1478,
     "status": "ok",
     "timestamp": 1692765940110,
     "user": {
      "displayName": "Nicolas Cortinas",
      "userId": "12246189098308514323"
     },
     "user_tz": -240
    },
    "id": "wswbZlhJtYsO",
    "outputId": "d7eda4d7-5bb7-47b5-b86c-e89dfac94247"
   },
   "outputs": [],
   "source": [
    "url = 'https://finance.yahoo.com/calendar/earnings?symbol=nvda'\n",
    "headers = {'User-Agent': 'Mozilla/5.0 (Windows NT 10.0; Win64; x64) AppleWebKit/537.36 (KHTML, like Gecko) Chrome/115.0.0.0 Safari/537.36'}\n",
    "\n",
    "r = requests.get(url, headers=headers)\n",
    "print(r)"
   ]
  },
  {
   "cell_type": "code",
   "execution_count": null,
   "metadata": {
    "id": "UCN6spYKtYpr"
   },
   "outputs": [],
   "source": [
    "soup = bs4.BeautifulSoup(r.content)\n",
    "table = soup.find('table' , class_='W(100%)')\n",
    "table_headers = table.find_all('th')\n",
    "row_elements = table.find_all('td')"
   ]
  },
  {
   "cell_type": "code",
   "execution_count": null,
   "metadata": {
    "colab": {
     "base_uri": "https://localhost:8080/"
    },
    "executionInfo": {
     "elapsed": 4,
     "status": "ok",
     "timestamp": 1692768423734,
     "user": {
      "displayName": "Nicolas Cortinas",
      "userId": "12246189098308514323"
     },
     "user_tz": -240
    },
    "id": "aaF7hd0HtYm9",
    "outputId": "d13e9724-da42-47be-e9b8-a98b40069a2c"
   },
   "outputs": [],
   "source": [
    "headers = [header.text for header in table_headers]\n",
    "headers"
   ]
  },
  {
   "cell_type": "code",
   "execution_count": null,
   "metadata": {
    "colab": {
     "base_uri": "https://localhost:8080/"
    },
    "executionInfo": {
     "elapsed": 4,
     "status": "ok",
     "timestamp": 1692768424082,
     "user": {
      "displayName": "Nicolas Cortinas",
      "userId": "12246189098308514323"
     },
     "user_tz": -240
    },
    "id": "GqiGS9oi0Ben",
    "outputId": "1e711cdb-2d05-4417-c1d1-1a8e471ef31d"
   },
   "outputs": [],
   "source": [
    "elements = [element.text for element in row_elements]\n",
    "elements_arr = np.array(elements)\n",
    "table_cols = len(headers)\n",
    "table_len = int(len(elements_arr)/table_cols)\n",
    "rows = elements_arr.reshape(table_len, table_cols)\n",
    "rows[:5]"
   ]
  },
  {
   "cell_type": "code",
   "execution_count": null,
   "metadata": {
    "colab": {
     "base_uri": "https://localhost:8080/",
     "height": 423
    },
    "executionInfo": {
     "elapsed": 6,
     "status": "ok",
     "timestamp": 1692768444745,
     "user": {
      "displayName": "Nicolas Cortinas",
      "userId": "12246189098308514323"
     },
     "user_tz": -240
    },
    "id": "BUW2Qwl52eLS",
    "outputId": "cff2baa0-6b78-4137-b0a0-2e13061f938f"
   },
   "outputs": [],
   "source": [
    "earnings = pd.DataFrame(data=rows, columns=headers)\n",
    "earnings"
   ]
  },
  {
   "cell_type": "code",
   "execution_count": null,
   "metadata": {
    "id": "B6scmRFhvKO2"
   },
   "outputs": [],
   "source": []
  },
  {
   "cell_type": "code",
   "execution_count": null,
   "metadata": {
    "id": "Qxw-UmPBtYh9"
   },
   "outputs": [],
   "source": []
  },
  {
   "cell_type": "code",
   "execution_count": null,
   "metadata": {
    "colab": {
     "base_uri": "https://localhost:8080/"
    },
    "executionInfo": {
     "elapsed": 580,
     "status": "ok",
     "timestamp": 1692448890612,
     "user": {
      "displayName": "Nicolas Cortinas",
      "userId": "12246189098308514323"
     },
     "user_tz": -240
    },
    "id": "ZZUNCdRbxPiN",
    "outputId": "2b1ea430-ab80-4f7f-cd6e-ec8d61357a5b"
   },
   "outputs": [],
   "source": [
    "url = 'https://www.forexfactory.com/calendar'\n",
    "\n",
    "r = requests.get(url)\n",
    "print(r)"
   ]
  },
  {
   "cell_type": "code",
   "execution_count": null,
   "metadata": {
    "id": "0UzJlFYQojtn"
   },
   "outputs": [],
   "source": [
    "import requests\n",
    "from bs4 import BeautifulSoup\n",
    "import pandas as pd\n",
    "\n",
    "\n",
    "#day = input('Enter Day: ')\n",
    "#month = input('Enter Month: ')\n",
    "#year = input('Enter Year: ')\n",
    "\n",
    "day, month, year = ('17', 'aug', '2023')\n",
    "\n",
    "url = f'https://www.forexfactory.com/calendar?day={month}{day}.{year}'\n",
    "url = f'https://www.forexfactory.com/calendar'\n",
    "useragent = \"Mozilla/5.0 (Windows NT 10.0; Win64; x64) AppleWebKit/537.36 (KHTML, like Gecko) Chrome/115.0.0.0 Safari/537.36\"\n",
    "headers = {'User-Agent': useragent}"
   ]
  },
  {
   "cell_type": "code",
   "execution_count": null,
   "metadata": {
    "colab": {
     "base_uri": "https://localhost:8080/",
     "height": 35
    },
    "executionInfo": {
     "elapsed": 334,
     "status": "ok",
     "timestamp": 1692530291306,
     "user": {
      "displayName": "Nicolas Cortinas",
      "userId": "12246189098308514323"
     },
     "user_tz": -240
    },
    "id": "GggBaYDQovle",
    "outputId": "3b510b7a-cffe-4371-d0aa-421840625f2c"
   },
   "outputs": [],
   "source": [
    "url"
   ]
  },
  {
   "cell_type": "code",
   "execution_count": null,
   "metadata": {
    "colab": {
     "base_uri": "https://localhost:8080/",
     "height": 393
    },
    "executionInfo": {
     "elapsed": 506,
     "status": "error",
     "timestamp": 1692530377663,
     "user": {
      "displayName": "Nicolas Cortinas",
      "userId": "12246189098308514323"
     },
     "user_tz": -240
    },
    "id": "yP6c88A-ohCg",
    "outputId": "6133e7b3-117c-433d-813c-73164215e65c"
   },
   "outputs": [],
   "source": [
    "Total_Data = []\n",
    "\n",
    "def getdata(link):\n",
    "    r = requests.get(link, headers=headers).text\n",
    "    soup = BeautifulSoup( r , 'lxml')\n",
    "    table = soup.find('table' , class_='calendar__table')\n",
    "    rows = table.find_all('tr')\n",
    "    tr = table.select('tr[class*=\"calendar__row calendar__row\"]')\n",
    "    for i in range(1,len(tr)):\n",
    "\n",
    "        row = tr[i]\n",
    "        # Date\n",
    "        try:\n",
    "            date = row.find('td' , class_='calendar__cell calendar__date').text.strip()\n",
    "        except:\n",
    "            date = \"\"\n",
    "\n",
    "        # Event ID\n",
    "\n",
    "\n",
    "        # Time\n",
    "        try:\n",
    "            time = row.find('td' , class_='calendar__cell calendar__time').text.strip()\n",
    "        except:\n",
    "            time = \"\"\n",
    "\n",
    "\n",
    "        # Currency\n",
    "        try:\n",
    "            currency = row.find('td' , class_='calendar__cell calendar__currency').text.strip()\n",
    "        except:\n",
    "            currency = \"\"\n",
    "\n",
    "        # Impact\n",
    "        try:\n",
    "            impact_color = row.find('td' , class_='calendar__cell calendar__impact').find('span')['class'][1].split('-')[-1]\n",
    "            if impact_color == 'ora':\n",
    "                impact = 'Medium'\n",
    "            elif impact_color == 'yel':\n",
    "                impact = 'Low'\n",
    "            elif impact_color == 'red':\n",
    "                impact = 'High'\n",
    "            elif impact_color == 'gra':\n",
    "                impact = 'Non-Economic'\n",
    "        except:\n",
    "            impact = ''\n",
    "\n",
    "        # Event\n",
    "        try:\n",
    "            event = row.find('span' , class_='calendar__event-title').text.strip()\n",
    "        except:\n",
    "            event = ''\n",
    "\n",
    "        # Actual\n",
    "        try:\n",
    "            actual = row.find('td' , class_='calendar__cell calendar__actual').text.strip()\n",
    "        except:\n",
    "            actual = \" \"\n",
    "\n",
    "        # Forecast\n",
    "        try:\n",
    "            forecast = row.find('td' , class_='calendar__cell calendar__forecast').text.strip()\n",
    "        except:\n",
    "            forecast = ''\n",
    "\n",
    "        # Previous\n",
    "        try:\n",
    "            previous = row.find('td' , class_='calendar__cell calendar__previous').text.strip()\n",
    "        except:\n",
    "            previous = ''\n",
    "\n",
    "        myData = {\n",
    "            'Time' : time ,\n",
    "            'Currency' : currency,\n",
    "            'Impact' : impact,\n",
    "            'Event Title' : event,\n",
    "            'Actual' : actual,\n",
    "            'Forecast' : forecast,\n",
    "            'Previous' : previous\n",
    "        }\n",
    "        Total_Data.append(myData)\n",
    "\n",
    "\n",
    "\n",
    "    return\n",
    "\n",
    "# Call the function\n",
    "print('Scrapping the Data . . . . . .')\n",
    "getdata(url)\n",
    "\n",
    "# Store data to CSV\n",
    "\n",
    "print('Scrapping Completed . . . . . .')\n",
    "df = pd.DataFrame(Total_Data)\n",
    "df.to_csv(f'{day}.{month}.{year}-Forex_Factory.csv' , index=False)\n",
    "\n",
    "print('Data Stored to a CSV . . . . ')"
   ]
  },
  {
   "cell_type": "code",
   "execution_count": null,
   "metadata": {
    "colab": {
     "base_uri": "https://localhost:8080/",
     "height": 1000
    },
    "executionInfo": {
     "elapsed": 362,
     "status": "ok",
     "timestamp": 1692530301911,
     "user": {
      "displayName": "Nicolas Cortinas",
      "userId": "12246189098308514323"
     },
     "user_tz": -240
    },
    "id": "f5j3LtP3ohAM",
    "outputId": "7c99de9f-2976-4937-9473-c4600f614cde"
   },
   "outputs": [],
   "source": [
    "df"
   ]
  },
  {
   "cell_type": "code",
   "execution_count": null,
   "metadata": {
    "id": "BXBEEiPVog9q"
   },
   "outputs": [],
   "source": []
  },
  {
   "cell_type": "code",
   "execution_count": null,
   "metadata": {
    "id": "BQGdQAyHog2G"
   },
   "outputs": [],
   "source": []
  }
 ],
 "metadata": {
  "colab": {
   "authorship_tag": "ABX9TyNNEV0UCue84rVfnePO+vFf",
   "mount_file_id": "19Pcqbaak67uu39GsOeQMXngTqdPOb_5N",
   "provenance": []
  },
  "kernelspec": {
   "display_name": "Python 3 (ipykernel)",
   "language": "python",
   "name": "python3"
  },
  "language_info": {
   "codemirror_mode": {
    "name": "ipython",
    "version": 3
   },
   "file_extension": ".py",
   "mimetype": "text/x-python",
   "name": "python",
   "nbconvert_exporter": "python",
   "pygments_lexer": "ipython3",
   "version": "3.9.17"
  }
 },
 "nbformat": 4,
 "nbformat_minor": 4
}
